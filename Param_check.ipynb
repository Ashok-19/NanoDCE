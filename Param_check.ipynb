{
 "cells": [
  {
   "cell_type": "markdown",
   "id": "35345d01",
   "metadata": {},
   "source": [
    "# Student Model \n",
    "\n",
    "Verifying student parameters and it's info using 'torchinfo'"
   ]
  },
  {
   "cell_type": "code",
   "execution_count": 5,
   "id": "ba2e7ac1-ef78-4bcb-9096-6aac792697b4",
   "metadata": {},
   "outputs": [
    {
     "data": {
      "text/plain": [
       "<All keys matched successfully>"
      ]
     },
     "execution_count": 5,
     "metadata": {},
     "output_type": "execute_result"
    }
   ],
   "source": [
    "import torch\n",
    "import model_student  # your model definition file\n",
    "\n",
    "# Create the model\n",
    "net = model_student.enhance_net_nopool_student(scale_factor=1)  # adjust to match training\n",
    "\n",
    "# Load weights\n",
    "net.load_state_dict(torch.load(\"snapshots_Student_KD/Student_Final.pth\", map_location=\"cpu\"))\n"
   ]
  },
  {
   "cell_type": "markdown",
   "id": "d4189b8e",
   "metadata": {},
   "source": [
    "Refer [model_student.py]() and [model.py]() to see the changes between student and teacher model.\n",
    "\n",
    "TLDR : Only number_f is changed (32 -> 4)"
   ]
  },
  {
   "cell_type": "code",
   "execution_count": 6,
   "id": "51864842-4b6d-45b4-8802-f9f438457b37",
   "metadata": {},
   "outputs": [
    {
     "name": "stdout",
     "output_type": "stream",
     "text": [
      "Total parameters: 565\n"
     ]
    }
   ],
   "source": [
    "total_params = sum(p.numel() for p in net.parameters())\n",
    "print(f\"Total parameters: {total_params:,}\")\n"
   ]
  },
  {
   "cell_type": "code",
   "execution_count": 3,
   "id": "77b756b8-3730-4afb-aad2-f77369dc6fc7",
   "metadata": {},
   "outputs": [
    {
     "name": "stdout",
     "output_type": "stream",
     "text": [
      "Collecting torchinfo\n",
      "  Downloading torchinfo-1.8.0-py3-none-any.whl.metadata (21 kB)\n",
      "Downloading torchinfo-1.8.0-py3-none-any.whl (23 kB)\n",
      "Installing collected packages: torchinfo\n",
      "Successfully installed torchinfo-1.8.0\n"
     ]
    }
   ],
   "source": [
    "!pip install torchinfo\n"
   ]
  },
  {
   "cell_type": "code",
   "execution_count": 7,
   "id": "505cc06b-2d16-4704-9e9a-f9f0991c1aef",
   "metadata": {},
   "outputs": [
    {
     "data": {
      "text/plain": [
       "==========================================================================================\n",
       "Layer (type:depth-idx)                   Output Shape              Param #\n",
       "==========================================================================================\n",
       "enhance_net_nopool_student               [1, 3, 512, 512]          --\n",
       "├─CSDN_Tem: 1-1                          [1, 4, 512, 512]          --\n",
       "│    └─Conv2d: 2-1                       [1, 3, 512, 512]          30\n",
       "│    └─Conv2d: 2-2                       [1, 4, 512, 512]          16\n",
       "├─ReLU: 1-2                              [1, 4, 512, 512]          --\n",
       "├─CSDN_Tem: 1-3                          [1, 4, 512, 512]          --\n",
       "│    └─Conv2d: 2-3                       [1, 4, 512, 512]          40\n",
       "│    └─Conv2d: 2-4                       [1, 4, 512, 512]          20\n",
       "├─ReLU: 1-4                              [1, 4, 512, 512]          --\n",
       "├─CSDN_Tem: 1-5                          [1, 4, 512, 512]          --\n",
       "│    └─Conv2d: 2-5                       [1, 4, 512, 512]          40\n",
       "│    └─Conv2d: 2-6                       [1, 4, 512, 512]          20\n",
       "├─ReLU: 1-6                              [1, 4, 512, 512]          --\n",
       "├─CSDN_Tem: 1-7                          [1, 4, 512, 512]          --\n",
       "│    └─Conv2d: 2-7                       [1, 4, 512, 512]          40\n",
       "│    └─Conv2d: 2-8                       [1, 4, 512, 512]          20\n",
       "├─ReLU: 1-8                              [1, 4, 512, 512]          --\n",
       "├─CSDN_Tem: 1-9                          [1, 4, 512, 512]          --\n",
       "│    └─Conv2d: 2-9                       [1, 8, 512, 512]          80\n",
       "│    └─Conv2d: 2-10                      [1, 4, 512, 512]          36\n",
       "├─ReLU: 1-10                             [1, 4, 512, 512]          --\n",
       "├─CSDN_Tem: 1-11                         [1, 4, 512, 512]          --\n",
       "│    └─Conv2d: 2-11                      [1, 8, 512, 512]          80\n",
       "│    └─Conv2d: 2-12                      [1, 4, 512, 512]          36\n",
       "├─ReLU: 1-12                             [1, 4, 512, 512]          --\n",
       "├─CSDN_Tem: 1-13                         [1, 3, 512, 512]          --\n",
       "│    └─Conv2d: 2-13                      [1, 8, 512, 512]          80\n",
       "│    └─Conv2d: 2-14                      [1, 3, 512, 512]          27\n",
       "==========================================================================================\n",
       "Total params: 565\n",
       "Trainable params: 565\n",
       "Non-trainable params: 0\n",
       "Total mult-adds (M): 148.11\n",
       "==========================================================================================\n",
       "Input size (MB): 3.15\n",
       "Forward/backward pass size (MB): 138.41\n",
       "Params size (MB): 0.00\n",
       "Estimated Total Size (MB): 141.56\n",
       "=========================================================================================="
      ]
     },
     "execution_count": 7,
     "metadata": {},
     "output_type": "execute_result"
    }
   ],
   "source": [
    "from torchinfo import summary\n",
    "summary(net, input_size=(1, 3, 512, 512))\n"
   ]
  },
  {
   "cell_type": "code",
   "execution_count": 8,
   "id": "81eabd82-ba52-4ba3-83e7-0ebeccf49d30",
   "metadata": {},
   "outputs": [
    {
     "data": {
      "text/plain": [
       "<All keys matched successfully>"
      ]
     },
     "execution_count": 8,
     "metadata": {},
     "output_type": "execute_result"
    }
   ],
   "source": [
    "import torch\n",
    "import model \n",
    "\n",
    "# Create the model\n",
    "net = model.enhance_net_nopool(scale_factor=1)  # adjust to match training\n",
    "\n",
    "# Load weights\n",
    "net.load_state_dict(torch.load(\"snapshots_Zero_DCE++/Epoch99.pth\", map_location=\"cpu\"))\n"
   ]
  },
  {
   "cell_type": "markdown",
   "id": "abcaad54",
   "metadata": {},
   "source": [
    "# Teacher Model \n",
    "\n",
    "Verifying Teacher model's parameters and it's info using 'torchinfo'"
   ]
  },
  {
   "cell_type": "code",
   "execution_count": 9,
   "id": "f3e0fc2c-c23e-4645-a2a3-0557495e69ad",
   "metadata": {},
   "outputs": [
    {
     "name": "stdout",
     "output_type": "stream",
     "text": [
      "Total parameters: 10,561\n"
     ]
    }
   ],
   "source": [
    "total_params = sum(p.numel() for p in net.parameters())\n",
    "print(f\"Total parameters: {total_params:,}\")\n"
   ]
  },
  {
   "cell_type": "code",
   "execution_count": 10,
   "id": "6234aa0d-25aa-4286-8cab-bb8eb6d3ef21",
   "metadata": {},
   "outputs": [
    {
     "data": {
      "text/plain": [
       "==========================================================================================\n",
       "Layer (type:depth-idx)                   Output Shape              Param #\n",
       "==========================================================================================\n",
       "enhance_net_nopool                       [1, 3, 512, 512]          --\n",
       "├─CSDN_Tem: 1-1                          [1, 32, 512, 512]         --\n",
       "│    └─Conv2d: 2-1                       [1, 3, 512, 512]          30\n",
       "│    └─Conv2d: 2-2                       [1, 32, 512, 512]         128\n",
       "├─ReLU: 1-2                              [1, 32, 512, 512]         --\n",
       "├─CSDN_Tem: 1-3                          [1, 32, 512, 512]         --\n",
       "│    └─Conv2d: 2-3                       [1, 32, 512, 512]         320\n",
       "│    └─Conv2d: 2-4                       [1, 32, 512, 512]         1,056\n",
       "├─ReLU: 1-4                              [1, 32, 512, 512]         --\n",
       "├─CSDN_Tem: 1-5                          [1, 32, 512, 512]         --\n",
       "│    └─Conv2d: 2-5                       [1, 32, 512, 512]         320\n",
       "│    └─Conv2d: 2-6                       [1, 32, 512, 512]         1,056\n",
       "├─ReLU: 1-6                              [1, 32, 512, 512]         --\n",
       "├─CSDN_Tem: 1-7                          [1, 32, 512, 512]         --\n",
       "│    └─Conv2d: 2-7                       [1, 32, 512, 512]         320\n",
       "│    └─Conv2d: 2-8                       [1, 32, 512, 512]         1,056\n",
       "├─ReLU: 1-8                              [1, 32, 512, 512]         --\n",
       "├─CSDN_Tem: 1-9                          [1, 32, 512, 512]         --\n",
       "│    └─Conv2d: 2-9                       [1, 64, 512, 512]         640\n",
       "│    └─Conv2d: 2-10                      [1, 32, 512, 512]         2,080\n",
       "├─ReLU: 1-10                             [1, 32, 512, 512]         --\n",
       "├─CSDN_Tem: 1-11                         [1, 32, 512, 512]         --\n",
       "│    └─Conv2d: 2-11                      [1, 64, 512, 512]         640\n",
       "│    └─Conv2d: 2-12                      [1, 32, 512, 512]         2,080\n",
       "├─ReLU: 1-12                             [1, 32, 512, 512]         --\n",
       "├─CSDN_Tem: 1-13                         [1, 3, 512, 512]          --\n",
       "│    └─Conv2d: 2-13                      [1, 64, 512, 512]         640\n",
       "│    └─Conv2d: 2-14                      [1, 3, 512, 512]          195\n",
       "==========================================================================================\n",
       "Total params: 10,561\n",
       "Trainable params: 10,561\n",
       "Non-trainable params: 0\n",
       "Total mult-adds (G): 2.77\n",
       "==========================================================================================\n",
       "Input size (MB): 3.15\n",
       "Forward/backward pass size (MB): 1019.22\n",
       "Params size (MB): 0.04\n",
       "Estimated Total Size (MB): 1022.40\n",
       "=========================================================================================="
      ]
     },
     "execution_count": 10,
     "metadata": {},
     "output_type": "execute_result"
    }
   ],
   "source": [
    "from torchinfo import summary\n",
    "summary(net, input_size=(1, 3, 512, 512))"
   ]
  },
  {
   "cell_type": "code",
   "execution_count": null,
   "id": "936054ca-35a0-409c-95b4-ad607c46a55d",
   "metadata": {},
   "outputs": [],
   "source": []
  }
 ],
 "metadata": {
  "kernelspec": {
   "display_name": "zdce",
   "language": "python",
   "name": "python3"
  },
  "language_info": {
   "codemirror_mode": {
    "name": "ipython",
    "version": 3
   },
   "file_extension": ".py",
   "mimetype": "text/x-python",
   "name": "python",
   "nbconvert_exporter": "python",
   "pygments_lexer": "ipython3",
   "version": "3.9.23"
  }
 },
 "nbformat": 4,
 "nbformat_minor": 5
}
